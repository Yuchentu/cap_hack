{
 "cells": [
  {
   "cell_type": "code",
   "execution_count": 37,
   "metadata": {},
   "outputs": [],
   "source": [
    "from sklearn.linear_model import LogisticRegression\n",
    "from firebaseClient import FirebaseClient\n",
    "from datetime import datetime\n",
    "import numpy as np\n",
    "from sklearn.neural_network import BernoulliRBM"
   ]
  },
  {
   "cell_type": "code",
   "execution_count": 32,
   "metadata": {},
   "outputs": [
    {
     "name": "stdout",
     "output_type": "stream",
     "text": [
      "The default Firebase app already exists. This means you called initialize_app() more than once without providing an app name as the second argument. In most cases you only need to call initialize_app() once. But if you do want to initialize multiple apps, pass a second argument to initialize_app() to give each app a unique name.\n"
     ]
    }
   ],
   "source": [
    "fb = FirebaseClient()"
   ]
  },
  {
   "cell_type": "code",
   "execution_count": 78,
   "metadata": {},
   "outputs": [],
   "source": [
    "transactions = fb.db.collection('users').document(\"2FQGO07VXtAZt1Gyvzsk\").collection('transactions').stream()"
   ]
  },
  {
   "cell_type": "code",
   "execution_count": 79,
   "metadata": {},
   "outputs": [],
   "source": [
    "transactions_dict = [t.to_dict() for t in transactions]"
   ]
  },
  {
   "cell_type": "code",
   "execution_count": 80,
   "metadata": {},
   "outputs": [],
   "source": [
    "x = []\n",
    "y = []\n",
    "y_pros = []\n",
    "\n",
    "categories = []\n",
    "\n",
    "for t in transactions_dict:\n",
    "    vec = []\n",
    "    datestr = t[\"date\"] + \" \" + t[\"time\"]\n",
    "    dt = datetime.strptime(datestr, '%m/%d/%y %H:%M:%S')\n",
    "    timestamp = datetime.timestamp(dt)\n",
    "    \n",
    "    vec.append(t[\"coordinates\"][0])\n",
    "    vec.append(t[\"coordinates\"][1])\n",
    "    vec.append(timestamp)\n",
    "    vec.append(t[\"amount\"])\n",
    "    \n",
    "    for cat in t[\"category\"]:\n",
    "        if cat not in categories:\n",
    "            categories.append(cat)\n",
    "        output = categories.index(cat)\n",
    "        \n",
    "        x.append(vec)\n",
    "        y.append(output)\n",
    "        \n",
    "for exp in y:\n",
    "    one_hot = [0] * len(categories)\n",
    "    one_hot[exp] = 1\n",
    "    y_pros.append(one_hot)\n",
    "    "
   ]
  },
  {
   "cell_type": "code",
   "execution_count": 81,
   "metadata": {},
   "outputs": [],
   "source": [
    "x = np.array(x)\n",
    "y = np.array(y)"
   ]
  },
  {
   "cell_type": "code",
   "execution_count": 82,
   "metadata": {},
   "outputs": [
    {
     "data": {
      "text/plain": [
       "(0,)"
      ]
     },
     "execution_count": 82,
     "metadata": {},
     "output_type": "execute_result"
    }
   ],
   "source": [
    "np.shape(y)"
   ]
  },
  {
   "cell_type": "code",
   "execution_count": 75,
   "metadata": {},
   "outputs": [],
   "source": [
    "clf = LogisticRegression(random_state=0).fit(x, y)"
   ]
  },
  {
   "cell_type": "code",
   "execution_count": 76,
   "metadata": {},
   "outputs": [],
   "source": [
    "error = 0\n",
    "\n",
    "pred =  clf.predict(x)\n",
    "for i in range(len(pred)):\n",
    "    error += (y[i] - pred[i])**2"
   ]
  },
  {
   "cell_type": "code",
   "execution_count": 77,
   "metadata": {},
   "outputs": [
    {
     "data": {
      "text/plain": [
       "359.2575677699775"
      ]
     },
     "execution_count": 77,
     "metadata": {},
     "output_type": "execute_result"
    }
   ],
   "source": [
    "error ** 0.5"
   ]
  },
  {
   "cell_type": "code",
   "execution_count": null,
   "metadata": {},
   "outputs": [],
   "source": []
  }
 ],
 "metadata": {
  "kernelspec": {
   "display_name": "Python 3",
   "language": "python",
   "name": "python3"
  },
  "language_info": {
   "codemirror_mode": {
    "name": "ipython",
    "version": 3
   },
   "file_extension": ".py",
   "mimetype": "text/x-python",
   "name": "python",
   "nbconvert_exporter": "python",
   "pygments_lexer": "ipython3",
   "version": "3.7.6"
  }
 },
 "nbformat": 4,
 "nbformat_minor": 4
}
